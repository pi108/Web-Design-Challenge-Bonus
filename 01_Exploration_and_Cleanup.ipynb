{
 "cells": [
  {
   "cell_type": "code",
   "execution_count": 1,
   "metadata": {},
   "outputs": [],
   "source": [
    "import pandas as pd\n",
    "import random\n",
    "import matplotlib.pyplot as plt\n",
    "import numpy as np\n",
    "\n",
    "# Here we open the csv file that was exported at the last step of the Data Extraction Process, and create a dataframe \n",
    "\n",
    "file_to_open = \"Output/00_Extraction/data_csv_original.csv\"\n",
    "data_df = pd.read_csv(file_to_open)\n"
   ]
  },
  {
   "cell_type": "code",
   "execution_count": 2,
   "metadata": {},
   "outputs": [
    {
     "data": {
      "text/html": [
       "<div>\n",
       "<style scoped>\n",
       "    .dataframe tbody tr th:only-of-type {\n",
       "        vertical-align: middle;\n",
       "    }\n",
       "\n",
       "    .dataframe tbody tr th {\n",
       "        vertical-align: top;\n",
       "    }\n",
       "\n",
       "    .dataframe thead th {\n",
       "        text-align: right;\n",
       "    }\n",
       "</style>\n",
       "<table border=\"1\" class=\"dataframe\">\n",
       "  <thead>\n",
       "    <tr style=\"text-align: right;\">\n",
       "      <th></th>\n",
       "      <th>Date</th>\n",
       "      <th>DCOILBRENTEU</th>\n",
       "      <th>DJIA</th>\n",
       "      <th>DCOILWTICO</th>\n",
       "      <th>DHHNGSP</th>\n",
       "      <th>GOLDAMGBD228NLBM</th>\n",
       "      <th>NASDAQCOM</th>\n",
       "      <th>SP500</th>\n",
       "      <th>WILL5000INDFC</th>\n",
       "      <th>DEXCHUS</th>\n",
       "      <th>DEXINUS</th>\n",
       "      <th>DEXJPUS</th>\n",
       "      <th>DEXUSEU</th>\n",
       "    </tr>\n",
       "  </thead>\n",
       "  <tbody>\n",
       "    <tr>\n",
       "      <td>0</td>\n",
       "      <td>1987-05-20</td>\n",
       "      <td>18.63</td>\n",
       "      <td>NaN</td>\n",
       "      <td>19.75</td>\n",
       "      <td>NaN</td>\n",
       "      <td>479.950</td>\n",
       "      <td>406.57</td>\n",
       "      <td>NaN</td>\n",
       "      <td>6.54</td>\n",
       "      <td>3.7314</td>\n",
       "      <td>12.59</td>\n",
       "      <td>139.78</td>\n",
       "      <td>NaN</td>\n",
       "    </tr>\n",
       "    <tr>\n",
       "      <td>1</td>\n",
       "      <td>1987-05-21</td>\n",
       "      <td>18.45</td>\n",
       "      <td>NaN</td>\n",
       "      <td>19.95</td>\n",
       "      <td>NaN</td>\n",
       "      <td>468.600</td>\n",
       "      <td>408.47</td>\n",
       "      <td>NaN</td>\n",
       "      <td>6.58</td>\n",
       "      <td>3.7314</td>\n",
       "      <td>12.63</td>\n",
       "      <td>140.45</td>\n",
       "      <td>NaN</td>\n",
       "    </tr>\n",
       "    <tr>\n",
       "      <td>2</td>\n",
       "      <td>1987-05-22</td>\n",
       "      <td>18.55</td>\n",
       "      <td>NaN</td>\n",
       "      <td>19.68</td>\n",
       "      <td>NaN</td>\n",
       "      <td>473.600</td>\n",
       "      <td>407.40</td>\n",
       "      <td>NaN</td>\n",
       "      <td>6.61</td>\n",
       "      <td>3.7314</td>\n",
       "      <td>12.63</td>\n",
       "      <td>140.60</td>\n",
       "      <td>NaN</td>\n",
       "    </tr>\n",
       "    <tr>\n",
       "      <td>3</td>\n",
       "      <td>1987-05-25</td>\n",
       "      <td>18.60</td>\n",
       "      <td>NaN</td>\n",
       "      <td>.</td>\n",
       "      <td>NaN</td>\n",
       "      <td>.</td>\n",
       "      <td>.</td>\n",
       "      <td>NaN</td>\n",
       "      <td>.</td>\n",
       "      <td>.</td>\n",
       "      <td>.</td>\n",
       "      <td>.</td>\n",
       "      <td>NaN</td>\n",
       "    </tr>\n",
       "    <tr>\n",
       "      <td>4</td>\n",
       "      <td>1987-05-26</td>\n",
       "      <td>18.63</td>\n",
       "      <td>NaN</td>\n",
       "      <td>19.35</td>\n",
       "      <td>NaN</td>\n",
       "      <td>459.650</td>\n",
       "      <td>411.44</td>\n",
       "      <td>NaN</td>\n",
       "      <td>6.75</td>\n",
       "      <td>3.7314</td>\n",
       "      <td>12.74</td>\n",
       "      <td>143.30</td>\n",
       "      <td>NaN</td>\n",
       "    </tr>\n",
       "  </tbody>\n",
       "</table>\n",
       "</div>"
      ],
      "text/plain": [
       "         Date DCOILBRENTEU DJIA DCOILWTICO DHHNGSP GOLDAMGBD228NLBM NASDAQCOM  \\\n",
       "0  1987-05-20        18.63  NaN      19.75     NaN          479.950    406.57   \n",
       "1  1987-05-21        18.45  NaN      19.95     NaN          468.600    408.47   \n",
       "2  1987-05-22        18.55  NaN      19.68     NaN          473.600    407.40   \n",
       "3  1987-05-25        18.60  NaN          .     NaN                .         .   \n",
       "4  1987-05-26        18.63  NaN      19.35     NaN          459.650    411.44   \n",
       "\n",
       "  SP500 WILL5000INDFC DEXCHUS DEXINUS DEXJPUS DEXUSEU  \n",
       "0   NaN          6.54  3.7314   12.59  139.78     NaN  \n",
       "1   NaN          6.58  3.7314   12.63  140.45     NaN  \n",
       "2   NaN          6.61  3.7314   12.63  140.60     NaN  \n",
       "3   NaN             .       .       .       .     NaN  \n",
       "4   NaN          6.75  3.7314   12.74  143.30     NaN  "
      ]
     },
     "execution_count": 2,
     "metadata": {},
     "output_type": "execute_result"
    }
   ],
   "source": [
    "# Display the dataframe header\n",
    "data_df.head()\n"
   ]
  },
  {
   "cell_type": "code",
   "execution_count": 3,
   "metadata": {},
   "outputs": [
    {
     "data": {
      "text/plain": [
       "'1968-04-01'"
      ]
     },
     "execution_count": 3,
     "metadata": {},
     "output_type": "execute_result"
    }
   ],
   "source": [
    "# Check for the minimum date in the dataframe\n",
    "data_df[\"Date\"].min()\n"
   ]
  },
  {
   "cell_type": "code",
   "execution_count": 4,
   "metadata": {},
   "outputs": [
    {
     "data": {
      "text/plain": [
       "'2020-04-17'"
      ]
     },
     "execution_count": 4,
     "metadata": {},
     "output_type": "execute_result"
    }
   ],
   "source": [
    "# Check for the maximum date in the dataframe\n",
    "data_df[\"Date\"].max()\n"
   ]
  },
  {
   "cell_type": "code",
   "execution_count": 5,
   "metadata": {},
   "outputs": [
    {
     "data": {
      "text/plain": [
       "(13580, 13)"
      ]
     },
     "execution_count": 5,
     "metadata": {},
     "output_type": "execute_result"
    }
   ],
   "source": [
    "# Display the rows and columns in the dataframe\n",
    "data_df.shape\n"
   ]
  },
  {
   "cell_type": "code",
   "execution_count": 6,
   "metadata": {},
   "outputs": [
    {
     "data": {
      "text/plain": [
       "Index(['Date', 'DCOILBRENTEU', 'DJIA', 'DCOILWTICO', 'DHHNGSP',\n",
       "       'GOLDAMGBD228NLBM', 'NASDAQCOM', 'SP500', 'WILL5000INDFC', 'DEXCHUS',\n",
       "       'DEXINUS', 'DEXJPUS', 'DEXUSEU'],\n",
       "      dtype='object')"
      ]
     },
     "execution_count": 6,
     "metadata": {},
     "output_type": "execute_result"
    }
   ],
   "source": [
    "# Display the names of the columns in the dataframe\n",
    "data_df.columns\n"
   ]
  },
  {
   "cell_type": "code",
   "execution_count": 7,
   "metadata": {},
   "outputs": [
    {
     "data": {
      "text/plain": [
       "Date                object\n",
       "DCOILBRENTEU        object\n",
       "DJIA                object\n",
       "DCOILWTICO          object\n",
       "DHHNGSP             object\n",
       "GOLDAMGBD228NLBM    object\n",
       "NASDAQCOM           object\n",
       "SP500               object\n",
       "WILL5000INDFC       object\n",
       "DEXCHUS             object\n",
       "DEXINUS             object\n",
       "DEXJPUS             object\n",
       "DEXUSEU             object\n",
       "dtype: object"
      ]
     },
     "execution_count": 7,
     "metadata": {},
     "output_type": "execute_result"
    }
   ],
   "source": [
    "# Display the datatypes of the columns\n",
    "data_df.dtypes\n"
   ]
  },
  {
   "cell_type": "code",
   "execution_count": 8,
   "metadata": {},
   "outputs": [
    {
     "data": {
      "text/html": [
       "<div>\n",
       "<style scoped>\n",
       "    .dataframe tbody tr th:only-of-type {\n",
       "        vertical-align: middle;\n",
       "    }\n",
       "\n",
       "    .dataframe tbody tr th {\n",
       "        vertical-align: top;\n",
       "    }\n",
       "\n",
       "    .dataframe thead th {\n",
       "        text-align: right;\n",
       "    }\n",
       "</style>\n",
       "<table border=\"1\" class=\"dataframe\">\n",
       "  <thead>\n",
       "    <tr style=\"text-align: right;\">\n",
       "      <th></th>\n",
       "      <th>Date</th>\n",
       "      <th>DCOILBRENTEU</th>\n",
       "      <th>DJIA</th>\n",
       "      <th>DCOILWTICO</th>\n",
       "      <th>DHHNGSP</th>\n",
       "      <th>GOLDAMGBD228NLBM</th>\n",
       "      <th>NASDAQCOM</th>\n",
       "      <th>SP500</th>\n",
       "      <th>WILL5000INDFC</th>\n",
       "      <th>DEXCHUS</th>\n",
       "      <th>DEXINUS</th>\n",
       "      <th>DEXJPUS</th>\n",
       "      <th>DEXUSEU</th>\n",
       "    </tr>\n",
       "  </thead>\n",
       "  <tbody>\n",
       "    <tr>\n",
       "      <td>count</td>\n",
       "      <td>13580</td>\n",
       "      <td>8584</td>\n",
       "      <td>2610</td>\n",
       "      <td>8943</td>\n",
       "      <td>6068</td>\n",
       "      <td>13580</td>\n",
       "      <td>12836</td>\n",
       "      <td>2610</td>\n",
       "      <td>12861</td>\n",
       "      <td>10246</td>\n",
       "      <td>12334</td>\n",
       "      <td>12855</td>\n",
       "      <td>5550</td>\n",
       "    </tr>\n",
       "    <tr>\n",
       "      <td>unique</td>\n",
       "      <td>13580</td>\n",
       "      <td>4622</td>\n",
       "      <td>2507</td>\n",
       "      <td>4844</td>\n",
       "      <td>900</td>\n",
       "      <td>7646</td>\n",
       "      <td>11882</td>\n",
       "      <td>2503</td>\n",
       "      <td>5390</td>\n",
       "      <td>3987</td>\n",
       "      <td>3772</td>\n",
       "      <td>6957</td>\n",
       "      <td>3416</td>\n",
       "    </tr>\n",
       "    <tr>\n",
       "      <td>top</td>\n",
       "      <td>2002-07-19</td>\n",
       "      <td>.</td>\n",
       "      <td>.</td>\n",
       "      <td>.</td>\n",
       "      <td>.</td>\n",
       "      <td>.</td>\n",
       "      <td>.</td>\n",
       "      <td>.</td>\n",
       "      <td>.</td>\n",
       "      <td>3.7314</td>\n",
       "      <td>.</td>\n",
       "      <td>.</td>\n",
       "      <td>.</td>\n",
       "    </tr>\n",
       "    <tr>\n",
       "      <td>freq</td>\n",
       "      <td>1</td>\n",
       "      <td>231</td>\n",
       "      <td>94</td>\n",
       "      <td>304</td>\n",
       "      <td>220</td>\n",
       "      <td>421</td>\n",
       "      <td>426</td>\n",
       "      <td>92</td>\n",
       "      <td>2574</td>\n",
       "      <td>789</td>\n",
       "      <td>480</td>\n",
       "      <td>499</td>\n",
       "      <td>209</td>\n",
       "    </tr>\n",
       "  </tbody>\n",
       "</table>\n",
       "</div>"
      ],
      "text/plain": [
       "              Date DCOILBRENTEU  DJIA DCOILWTICO DHHNGSP GOLDAMGBD228NLBM  \\\n",
       "count        13580         8584  2610       8943    6068            13580   \n",
       "unique       13580         4622  2507       4844     900             7646   \n",
       "top     2002-07-19            .     .          .       .                .   \n",
       "freq             1          231    94        304     220              421   \n",
       "\n",
       "       NASDAQCOM SP500 WILL5000INDFC DEXCHUS DEXINUS DEXJPUS DEXUSEU  \n",
       "count      12836  2610         12861   10246   12334   12855    5550  \n",
       "unique     11882  2503          5390    3987    3772    6957    3416  \n",
       "top            .     .             .  3.7314       .       .       .  \n",
       "freq         426    92          2574     789     480     499     209  "
      ]
     },
     "execution_count": 8,
     "metadata": {},
     "output_type": "execute_result"
    }
   ],
   "source": [
    "# Run the describe function on the columns\n",
    "data_df.describe()\n"
   ]
  },
  {
   "cell_type": "code",
   "execution_count": 9,
   "metadata": {},
   "outputs": [
    {
     "data": {
      "text/plain": [
       "Date                13580\n",
       "DCOILBRENTEU         8584\n",
       "DJIA                 2610\n",
       "DCOILWTICO           8943\n",
       "DHHNGSP              6068\n",
       "GOLDAMGBD228NLBM    13580\n",
       "NASDAQCOM           12836\n",
       "SP500                2610\n",
       "WILL5000INDFC       12861\n",
       "DEXCHUS             10246\n",
       "DEXINUS             12334\n",
       "DEXJPUS             12855\n",
       "DEXUSEU              5550\n",
       "dtype: int64"
      ]
     },
     "execution_count": 9,
     "metadata": {},
     "output_type": "execute_result"
    }
   ],
   "source": [
    "# Get the number of rows for all the columns in the dataframe\n",
    "data_df.count()\n"
   ]
  },
  {
   "cell_type": "code",
   "execution_count": 10,
   "metadata": {},
   "outputs": [],
   "source": [
    "# Export data to an excel file\n",
    "data_df.to_excel(\"Output/01_Exploration_and_Cleanup/v0_data_from_extraction.xlsx\", index=False)"
   ]
  },
  {
   "cell_type": "code",
   "execution_count": 11,
   "metadata": {},
   "outputs": [],
   "source": [
    "# Load data from the file created in the above step and create a new dataframe\n",
    "file_to_open = \"Output/01_Exploration_and_Cleanup/v0_data_from_extraction.xlsx\"\n",
    "data_df_clean_v1 = pd.read_excel(file_to_open)\n"
   ]
  },
  {
   "cell_type": "code",
   "execution_count": 12,
   "metadata": {},
   "outputs": [],
   "source": [
    "# Drop rows that contain N/A in any column\n",
    "data_df_clean_v1 = data_df.dropna(how='any')\n"
   ]
  },
  {
   "cell_type": "code",
   "execution_count": 13,
   "metadata": {},
   "outputs": [
    {
     "data": {
      "text/plain": [
       "Date                2604\n",
       "DCOILBRENTEU        2604\n",
       "DJIA                2604\n",
       "DCOILWTICO          2604\n",
       "DHHNGSP             2604\n",
       "GOLDAMGBD228NLBM    2604\n",
       "NASDAQCOM           2604\n",
       "SP500               2604\n",
       "WILL5000INDFC       2604\n",
       "DEXCHUS             2604\n",
       "DEXINUS             2604\n",
       "DEXJPUS             2604\n",
       "DEXUSEU             2604\n",
       "dtype: int64"
      ]
     },
     "execution_count": 13,
     "metadata": {},
     "output_type": "execute_result"
    }
   ],
   "source": [
    "# Count the rows \n",
    "data_df_clean_v1.count()\n"
   ]
  },
  {
   "cell_type": "code",
   "execution_count": 14,
   "metadata": {},
   "outputs": [
    {
     "data": {
      "text/plain": [
       "(2604, 13)"
      ]
     },
     "execution_count": 14,
     "metadata": {},
     "output_type": "execute_result"
    }
   ],
   "source": [
    "# Display the rows and columns \n",
    "data_df_clean_v1.shape\n"
   ]
  },
  {
   "cell_type": "code",
   "execution_count": 15,
   "metadata": {},
   "outputs": [
    {
     "data": {
      "text/plain": [
       "Index(['Date', 'DCOILBRENTEU', 'DJIA', 'DCOILWTICO', 'DHHNGSP',\n",
       "       'GOLDAMGBD228NLBM', 'NASDAQCOM', 'SP500', 'WILL5000INDFC', 'DEXCHUS',\n",
       "       'DEXINUS', 'DEXJPUS', 'DEXUSEU'],\n",
       "      dtype='object')"
      ]
     },
     "execution_count": 15,
     "metadata": {},
     "output_type": "execute_result"
    }
   ],
   "source": [
    "# Display the rows and columns \n",
    "data_df_clean_v1.columns\n"
   ]
  },
  {
   "cell_type": "code",
   "execution_count": 16,
   "metadata": {},
   "outputs": [
    {
     "data": {
      "text/plain": [
       "Date                object\n",
       "DCOILBRENTEU        object\n",
       "DJIA                object\n",
       "DCOILWTICO          object\n",
       "DHHNGSP             object\n",
       "GOLDAMGBD228NLBM    object\n",
       "NASDAQCOM           object\n",
       "SP500               object\n",
       "WILL5000INDFC       object\n",
       "DEXCHUS             object\n",
       "DEXINUS             object\n",
       "DEXJPUS             object\n",
       "DEXUSEU             object\n",
       "dtype: object"
      ]
     },
     "execution_count": 16,
     "metadata": {},
     "output_type": "execute_result"
    }
   ],
   "source": [
    "# Display the datatypes of the columns\n",
    "data_df_clean_v1.dtypes\n"
   ]
  },
  {
   "cell_type": "code",
   "execution_count": 17,
   "metadata": {},
   "outputs": [
    {
     "data": {
      "text/html": [
       "<div>\n",
       "<style scoped>\n",
       "    .dataframe tbody tr th:only-of-type {\n",
       "        vertical-align: middle;\n",
       "    }\n",
       "\n",
       "    .dataframe tbody tr th {\n",
       "        vertical-align: top;\n",
       "    }\n",
       "\n",
       "    .dataframe thead th {\n",
       "        text-align: right;\n",
       "    }\n",
       "</style>\n",
       "<table border=\"1\" class=\"dataframe\">\n",
       "  <thead>\n",
       "    <tr style=\"text-align: right;\">\n",
       "      <th></th>\n",
       "      <th>Date</th>\n",
       "      <th>DCOILBRENTEU</th>\n",
       "      <th>DJIA</th>\n",
       "      <th>DCOILWTICO</th>\n",
       "      <th>DHHNGSP</th>\n",
       "      <th>GOLDAMGBD228NLBM</th>\n",
       "      <th>NASDAQCOM</th>\n",
       "      <th>SP500</th>\n",
       "      <th>WILL5000INDFC</th>\n",
       "      <th>DEXCHUS</th>\n",
       "      <th>DEXINUS</th>\n",
       "      <th>DEXJPUS</th>\n",
       "      <th>DEXUSEU</th>\n",
       "    </tr>\n",
       "  </thead>\n",
       "  <tbody>\n",
       "    <tr>\n",
       "      <td>count</td>\n",
       "      <td>2604</td>\n",
       "      <td>2604</td>\n",
       "      <td>2604</td>\n",
       "      <td>2604</td>\n",
       "      <td>2604</td>\n",
       "      <td>2604</td>\n",
       "      <td>2604</td>\n",
       "      <td>2604</td>\n",
       "      <td>2604</td>\n",
       "      <td>2604</td>\n",
       "      <td>2604</td>\n",
       "      <td>2604</td>\n",
       "      <td>2604</td>\n",
       "    </tr>\n",
       "    <tr>\n",
       "      <td>unique</td>\n",
       "      <td>2604</td>\n",
       "      <td>2084</td>\n",
       "      <td>2502</td>\n",
       "      <td>2083</td>\n",
       "      <td>391</td>\n",
       "      <td>2061</td>\n",
       "      <td>2506</td>\n",
       "      <td>2498</td>\n",
       "      <td>2188</td>\n",
       "      <td>1961</td>\n",
       "      <td>1506</td>\n",
       "      <td>1848</td>\n",
       "      <td>1676</td>\n",
       "    </tr>\n",
       "    <tr>\n",
       "      <td>top</td>\n",
       "      <td>2015-09-17</td>\n",
       "      <td>.</td>\n",
       "      <td>.</td>\n",
       "      <td>.</td>\n",
       "      <td>.</td>\n",
       "      <td>.</td>\n",
       "      <td>.</td>\n",
       "      <td>.</td>\n",
       "      <td>.</td>\n",
       "      <td>.</td>\n",
       "      <td>.</td>\n",
       "      <td>.</td>\n",
       "      <td>.</td>\n",
       "    </tr>\n",
       "    <tr>\n",
       "      <td>freq</td>\n",
       "      <td>1</td>\n",
       "      <td>75</td>\n",
       "      <td>93</td>\n",
       "      <td>94</td>\n",
       "      <td>73</td>\n",
       "      <td>83</td>\n",
       "      <td>90</td>\n",
       "      <td>91</td>\n",
       "      <td>91</td>\n",
       "      <td>106</td>\n",
       "      <td>106</td>\n",
       "      <td>106</td>\n",
       "      <td>106</td>\n",
       "    </tr>\n",
       "  </tbody>\n",
       "</table>\n",
       "</div>"
      ],
      "text/plain": [
       "              Date DCOILBRENTEU  DJIA DCOILWTICO DHHNGSP GOLDAMGBD228NLBM  \\\n",
       "count         2604         2604  2604       2604    2604             2604   \n",
       "unique        2604         2084  2502       2083     391             2061   \n",
       "top     2015-09-17            .     .          .       .                .   \n",
       "freq             1           75    93         94      73               83   \n",
       "\n",
       "       NASDAQCOM SP500 WILL5000INDFC DEXCHUS DEXINUS DEXJPUS DEXUSEU  \n",
       "count       2604  2604          2604    2604    2604    2604    2604  \n",
       "unique      2506  2498          2188    1961    1506    1848    1676  \n",
       "top            .     .             .       .       .       .       .  \n",
       "freq          90    91            91     106     106     106     106  "
      ]
     },
     "execution_count": 17,
     "metadata": {},
     "output_type": "execute_result"
    }
   ],
   "source": [
    "# Run the describe function on the columns\n",
    "data_df_clean_v1.describe()\n"
   ]
  },
  {
   "cell_type": "code",
   "execution_count": 18,
   "metadata": {},
   "outputs": [],
   "source": [
    "# Export the data to an excel file\n",
    "data_df_clean_v1.to_excel(\"Output/01_Exploration_and_Cleanup/v1_clean_data_dropped_NAs.xlsx\", index=False)\n"
   ]
  },
  {
   "cell_type": "code",
   "execution_count": 19,
   "metadata": {},
   "outputs": [],
   "source": [
    "# Read the data from the file exported above and create a new dataframe\n",
    "file_to_open = \"Output/01_Exploration_and_Cleanup/v1_clean_data_dropped_NAs.xlsx\"\n",
    "data_df_clean_v2 = pd.read_excel(file_to_open)"
   ]
  },
  {
   "cell_type": "code",
   "execution_count": 20,
   "metadata": {},
   "outputs": [],
   "source": [
    "# Drop teh rows containing zeroes\n",
    "data_df_clean_v2 = data_df_clean_v1[data_df_clean_v1.loc[:]!=0].dropna()\n"
   ]
  },
  {
   "cell_type": "code",
   "execution_count": 21,
   "metadata": {},
   "outputs": [],
   "source": [
    "# Drop the rows containing spaces\n",
    "nan_value = float(\"NaN\")\n",
    "data_df_clean_v2.replace(\"\", nan_value, inplace=True)\n",
    "data_df_clean_v2.dropna(subset = [\"DJIA\"], inplace=True)\n",
    "\n",
    "# Drop the rows containing periods\n",
    "nan_value = float(\"NaN\")\n",
    "data_df_clean_v2.replace(\".\", nan_value, inplace=True)\n",
    "data_df_clean_v2.dropna(subset = [\"DJIA\"], inplace=True)"
   ]
  },
  {
   "cell_type": "code",
   "execution_count": 22,
   "metadata": {},
   "outputs": [],
   "source": [
    "# Drop the rows containing spaces\n",
    "nan_value = float(\"NaN\")\n",
    "data_df_clean_v2.replace(\"\", nan_value, inplace=True)\n",
    "data_df_clean_v2.dropna(subset = [\"DCOILBRENTEU\"], inplace=True)\n",
    "\n",
    "# Drop the rows containing periods\n",
    "nan_value = float(\"NaN\")\n",
    "data_df_clean_v2.replace(\".\", nan_value, inplace=True)\n",
    "data_df_clean_v2.dropna(subset = [\"DCOILBRENTEU\"], inplace=True)"
   ]
  },
  {
   "cell_type": "code",
   "execution_count": 23,
   "metadata": {},
   "outputs": [],
   "source": [
    "# Drop the rows containing spaces\n",
    "nan_value = float(\"NaN\")\n",
    "data_df_clean_v2.replace(\"\", nan_value, inplace=True)\n",
    "data_df_clean_v2.dropna(subset = [\"DCOILWTICO\"], inplace=True)\n",
    "\n",
    "# Drop the rows containing periods\n",
    "nan_value = float(\"NaN\")\n",
    "data_df_clean_v2.replace(\".\", nan_value, inplace=True)\n",
    "data_df_clean_v2.dropna(subset = [\"DCOILWTICO\"], inplace=True)"
   ]
  },
  {
   "cell_type": "code",
   "execution_count": 24,
   "metadata": {},
   "outputs": [],
   "source": [
    "# Drop the rows containing spaces\n",
    "nan_value = float(\"NaN\")\n",
    "data_df_clean_v2.replace(\"\", nan_value, inplace=True)\n",
    "data_df_clean_v2.dropna(subset = [\"DHHNGSP\"], inplace=True)\n",
    "\n",
    "# Drop the rows containing periods\n",
    "nan_value = float(\"NaN\")\n",
    "data_df_clean_v2.replace(\".\", nan_value, inplace=True)\n",
    "data_df_clean_v2.dropna(subset = [\"DHHNGSP\"], inplace=True)"
   ]
  },
  {
   "cell_type": "code",
   "execution_count": 25,
   "metadata": {},
   "outputs": [],
   "source": [
    "# Drop the rows containing spaces\n",
    "nan_value = float(\"NaN\")\n",
    "data_df_clean_v2.replace(\"\", nan_value, inplace=True)\n",
    "data_df_clean_v2.dropna(subset = [\"GOLDAMGBD228NLBM\"], inplace=True)\n",
    "\n",
    "# Drop the rows containing periods\n",
    "nan_value = float(\"NaN\")\n",
    "data_df_clean_v2.replace(\".\", nan_value, inplace=True)\n",
    "data_df_clean_v2.dropna(subset = [\"GOLDAMGBD228NLBM\"], inplace=True)"
   ]
  },
  {
   "cell_type": "code",
   "execution_count": 26,
   "metadata": {},
   "outputs": [],
   "source": [
    "# Drop the rows containing spaces\n",
    "nan_value = float(\"NaN\")\n",
    "data_df_clean_v2.replace(\"\", nan_value, inplace=True)\n",
    "data_df_clean_v2.dropna(subset = [\"NASDAQCOM\"], inplace=True)\n",
    "\n",
    "# Drop the rows containing periods\n",
    "nan_value = float(\"NaN\")\n",
    "data_df_clean_v2.replace(\".\", nan_value, inplace=True)\n",
    "data_df_clean_v2.dropna(subset = [\"NASDAQCOM\"], inplace=True)"
   ]
  },
  {
   "cell_type": "code",
   "execution_count": 27,
   "metadata": {},
   "outputs": [],
   "source": [
    "# Drop the rows containing spaces\n",
    "nan_value = float(\"NaN\")\n",
    "data_df_clean_v2.replace(\"\", nan_value, inplace=True)\n",
    "data_df_clean_v2.dropna(subset = [\"SP500\"], inplace=True)\n",
    "\n",
    "# Drop the rows containing periods\n",
    "nan_value = float(\"NaN\")\n",
    "data_df_clean_v2.replace(\".\", nan_value, inplace=True)\n",
    "data_df_clean_v2.dropna(subset = [\"SP500\"], inplace=True)"
   ]
  },
  {
   "cell_type": "code",
   "execution_count": 28,
   "metadata": {},
   "outputs": [],
   "source": [
    "# Drop the rows containing spaces\n",
    "nan_value = float(\"NaN\")\n",
    "data_df_clean_v2.replace(\"\", nan_value, inplace=True)\n",
    "data_df_clean_v2.dropna(subset = [\"WILL5000INDFC\"], inplace=True)\n",
    "\n",
    "# Drop the rows containing periods\n",
    "nan_value = float(\"NaN\")\n",
    "data_df_clean_v2.replace(\".\", nan_value, inplace=True)\n",
    "data_df_clean_v2.dropna(subset = [\"WILL5000INDFC\"], inplace=True)"
   ]
  },
  {
   "cell_type": "code",
   "execution_count": 29,
   "metadata": {},
   "outputs": [],
   "source": [
    "# Drop the rows containing spaces\n",
    "nan_value = float(\"NaN\")\n",
    "data_df_clean_v2.replace(\"\", nan_value, inplace=True)\n",
    "data_df_clean_v2.dropna(subset = [\"DEXCHUS\"], inplace=True)\n",
    "\n",
    "# Drop the rows containing periods\n",
    "nan_value = float(\"NaN\")\n",
    "data_df_clean_v2.replace(\".\", nan_value, inplace=True)\n",
    "data_df_clean_v2.dropna(subset = [\"DEXCHUS\"], inplace=True)"
   ]
  },
  {
   "cell_type": "code",
   "execution_count": 30,
   "metadata": {},
   "outputs": [],
   "source": [
    "# Drop the rows containing spaces\n",
    "nan_value = float(\"NaN\")\n",
    "data_df_clean_v2.replace(\"\", nan_value, inplace=True)\n",
    "data_df_clean_v2.dropna(subset = [\"DEXINUS\"], inplace=True)\n",
    "\n",
    "# Drop the rows containing periods\n",
    "nan_value = float(\"NaN\")\n",
    "data_df_clean_v2.replace(\".\", nan_value, inplace=True)\n",
    "data_df_clean_v2.dropna(subset = [\"DEXINUS\"], inplace=True)"
   ]
  },
  {
   "cell_type": "code",
   "execution_count": 31,
   "metadata": {},
   "outputs": [],
   "source": [
    "# Drop the rows containing spaces\n",
    "nan_value = float(\"NaN\")\n",
    "data_df_clean_v2.replace(\"\", nan_value, inplace=True)\n",
    "data_df_clean_v2.dropna(subset = [\"DEXJPUS\"], inplace=True)\n",
    "\n",
    "# Drop the rows containing periods\n",
    "nan_value = float(\"NaN\")\n",
    "data_df_clean_v2.replace(\".\", nan_value, inplace=True)\n",
    "data_df_clean_v2.dropna(subset = [\"DEXJPUS\"], inplace=True)"
   ]
  },
  {
   "cell_type": "code",
   "execution_count": 32,
   "metadata": {},
   "outputs": [],
   "source": [
    "# Drop the rows containing spaces\n",
    "nan_value = float(\"NaN\")\n",
    "data_df_clean_v2.replace(\"\", nan_value, inplace=True)\n",
    "data_df_clean_v2.dropna(subset = [\"DEXUSEU\"], inplace=True)\n",
    "\n",
    "# Drop the rows containing spaces\n",
    "nan_value = float(\"NaN\")\n",
    "data_df_clean_v2.replace(\".\", nan_value, inplace=True)\n",
    "data_df_clean_v2.dropna(subset = [\"DEXUSEU\"], inplace=True)"
   ]
  },
  {
   "cell_type": "code",
   "execution_count": 33,
   "metadata": {},
   "outputs": [],
   "source": [
    "# Convert to float\n",
    "data_df_clean_v2[\"DJIA\"] = data_df_clean_v2[\"DJIA\"].astype(float)"
   ]
  },
  {
   "cell_type": "code",
   "execution_count": 34,
   "metadata": {},
   "outputs": [],
   "source": [
    "# Convert to float\n",
    "data_df_clean_v2[\"DCOILBRENTEU\"] = data_df_clean_v2[\"DCOILBRENTEU\"].astype(float)"
   ]
  },
  {
   "cell_type": "code",
   "execution_count": 35,
   "metadata": {},
   "outputs": [],
   "source": [
    "# Convert to float\n",
    "data_df_clean_v2[\"DCOILWTICO\"] = data_df_clean_v2[\"DCOILWTICO\"].astype(float)"
   ]
  },
  {
   "cell_type": "code",
   "execution_count": 36,
   "metadata": {},
   "outputs": [],
   "source": [
    "# Convert to float\n",
    "data_df_clean_v2[\"DHHNGSP\"] = data_df_clean_v2[\"DHHNGSP\"].astype(float)"
   ]
  },
  {
   "cell_type": "code",
   "execution_count": 37,
   "metadata": {},
   "outputs": [],
   "source": [
    "# Convert to float\n",
    "data_df_clean_v2[\"GOLDAMGBD228NLBM\"] = data_df_clean_v2[\"GOLDAMGBD228NLBM\"].astype(float)"
   ]
  },
  {
   "cell_type": "code",
   "execution_count": 38,
   "metadata": {},
   "outputs": [],
   "source": [
    "# Convert to float\n",
    "data_df_clean_v2[\"NASDAQCOM\"] = data_df_clean_v2[\"NASDAQCOM\"].astype(float)"
   ]
  },
  {
   "cell_type": "code",
   "execution_count": 39,
   "metadata": {},
   "outputs": [],
   "source": [
    "# Convert to float\n",
    "data_df_clean_v2[\"SP500\"] = data_df_clean_v2[\"SP500\"].astype(float)"
   ]
  },
  {
   "cell_type": "code",
   "execution_count": 40,
   "metadata": {},
   "outputs": [],
   "source": [
    "# Convert to float\n",
    "data_df_clean_v2[\"WILL5000INDFC\"] = data_df_clean_v2[\"WILL5000INDFC\"].astype(float)"
   ]
  },
  {
   "cell_type": "code",
   "execution_count": 41,
   "metadata": {},
   "outputs": [],
   "source": [
    "# Convert to float\n",
    "data_df_clean_v2[\"DEXCHUS\"] = data_df_clean_v2[\"DEXCHUS\"].astype(float)"
   ]
  },
  {
   "cell_type": "code",
   "execution_count": 42,
   "metadata": {},
   "outputs": [],
   "source": [
    "# Convert to float\n",
    "data_df_clean_v2[\"DEXINUS\"] = data_df_clean_v2[\"DEXINUS\"].astype(float)"
   ]
  },
  {
   "cell_type": "code",
   "execution_count": 43,
   "metadata": {},
   "outputs": [],
   "source": [
    "# Convert to float\n",
    "data_df_clean_v2[\"DEXJPUS\"] = data_df_clean_v2[\"DEXJPUS\"].astype(float)"
   ]
  },
  {
   "cell_type": "code",
   "execution_count": 44,
   "metadata": {},
   "outputs": [],
   "source": [
    "# Convert to float\n",
    "data_df_clean_v2[\"DEXUSEU\"] = data_df_clean_v2[\"DEXUSEU\"].astype(float)"
   ]
  },
  {
   "cell_type": "code",
   "execution_count": 45,
   "metadata": {},
   "outputs": [
    {
     "data": {
      "text/plain": [
       "Date                 object\n",
       "DCOILBRENTEU        float64\n",
       "DJIA                float64\n",
       "DCOILWTICO          float64\n",
       "DHHNGSP             float64\n",
       "GOLDAMGBD228NLBM    float64\n",
       "NASDAQCOM           float64\n",
       "SP500               float64\n",
       "WILL5000INDFC       float64\n",
       "DEXCHUS             float64\n",
       "DEXINUS             float64\n",
       "DEXJPUS             float64\n",
       "DEXUSEU             float64\n",
       "dtype: object"
      ]
     },
     "execution_count": 45,
     "metadata": {},
     "output_type": "execute_result"
    }
   ],
   "source": [
    "# Display the datatypes for all columns\n",
    "data_df_clean_v2.dtypes"
   ]
  },
  {
   "cell_type": "code",
   "execution_count": 46,
   "metadata": {},
   "outputs": [
    {
     "data": {
      "text/plain": [
       "Date                2435\n",
       "DCOILBRENTEU        2435\n",
       "DJIA                2435\n",
       "DCOILWTICO          2435\n",
       "DHHNGSP             2435\n",
       "GOLDAMGBD228NLBM    2435\n",
       "NASDAQCOM           2435\n",
       "SP500               2435\n",
       "WILL5000INDFC       2435\n",
       "DEXCHUS             2435\n",
       "DEXINUS             2435\n",
       "DEXJPUS             2435\n",
       "DEXUSEU             2435\n",
       "dtype: int64"
      ]
     },
     "execution_count": 46,
     "metadata": {},
     "output_type": "execute_result"
    }
   ],
   "source": [
    "# Count the rows for all columns\n",
    "data_df_clean_v2.count()"
   ]
  },
  {
   "cell_type": "code",
   "execution_count": 47,
   "metadata": {},
   "outputs": [
    {
     "data": {
      "text/plain": [
       "(2435, 13)"
      ]
     },
     "execution_count": 47,
     "metadata": {},
     "output_type": "execute_result"
    }
   ],
   "source": [
    "# Display the count of rows and columns\n",
    "data_df_clean_v2.shape\n"
   ]
  },
  {
   "cell_type": "code",
   "execution_count": 48,
   "metadata": {},
   "outputs": [
    {
     "data": {
      "text/plain": [
       "Index(['Date', 'DCOILBRENTEU', 'DJIA', 'DCOILWTICO', 'DHHNGSP',\n",
       "       'GOLDAMGBD228NLBM', 'NASDAQCOM', 'SP500', 'WILL5000INDFC', 'DEXCHUS',\n",
       "       'DEXINUS', 'DEXJPUS', 'DEXUSEU'],\n",
       "      dtype='object')"
      ]
     },
     "execution_count": 48,
     "metadata": {},
     "output_type": "execute_result"
    }
   ],
   "source": [
    "# Display the column names\n",
    "data_df_clean_v2.columns"
   ]
  },
  {
   "cell_type": "code",
   "execution_count": 49,
   "metadata": {},
   "outputs": [
    {
     "data": {
      "text/plain": [
       "Date                 object\n",
       "DCOILBRENTEU        float64\n",
       "DJIA                float64\n",
       "DCOILWTICO          float64\n",
       "DHHNGSP             float64\n",
       "GOLDAMGBD228NLBM    float64\n",
       "NASDAQCOM           float64\n",
       "SP500               float64\n",
       "WILL5000INDFC       float64\n",
       "DEXCHUS             float64\n",
       "DEXINUS             float64\n",
       "DEXJPUS             float64\n",
       "DEXUSEU             float64\n",
       "dtype: object"
      ]
     },
     "execution_count": 49,
     "metadata": {},
     "output_type": "execute_result"
    }
   ],
   "source": [
    "# Display the datatypes\n",
    "data_df_clean_v2.dtypes"
   ]
  },
  {
   "cell_type": "code",
   "execution_count": 50,
   "metadata": {},
   "outputs": [
    {
     "data": {
      "text/html": [
       "<div>\n",
       "<style scoped>\n",
       "    .dataframe tbody tr th:only-of-type {\n",
       "        vertical-align: middle;\n",
       "    }\n",
       "\n",
       "    .dataframe tbody tr th {\n",
       "        vertical-align: top;\n",
       "    }\n",
       "\n",
       "    .dataframe thead th {\n",
       "        text-align: right;\n",
       "    }\n",
       "</style>\n",
       "<table border=\"1\" class=\"dataframe\">\n",
       "  <thead>\n",
       "    <tr style=\"text-align: right;\">\n",
       "      <th></th>\n",
       "      <th>DCOILBRENTEU</th>\n",
       "      <th>DJIA</th>\n",
       "      <th>DCOILWTICO</th>\n",
       "      <th>DHHNGSP</th>\n",
       "      <th>GOLDAMGBD228NLBM</th>\n",
       "      <th>NASDAQCOM</th>\n",
       "      <th>SP500</th>\n",
       "      <th>WILL5000INDFC</th>\n",
       "      <th>DEXCHUS</th>\n",
       "      <th>DEXINUS</th>\n",
       "      <th>DEXJPUS</th>\n",
       "      <th>DEXUSEU</th>\n",
       "    </tr>\n",
       "  </thead>\n",
       "  <tbody>\n",
       "    <tr>\n",
       "      <td>count</td>\n",
       "      <td>2435.000000</td>\n",
       "      <td>2435.000000</td>\n",
       "      <td>2435.000000</td>\n",
       "      <td>2435.000000</td>\n",
       "      <td>2435.000000</td>\n",
       "      <td>2435.000000</td>\n",
       "      <td>2435.000000</td>\n",
       "      <td>2435.000000</td>\n",
       "      <td>2435.000000</td>\n",
       "      <td>2435.000000</td>\n",
       "      <td>2435.000000</td>\n",
       "      <td>2435.000000</td>\n",
       "    </tr>\n",
       "    <tr>\n",
       "      <td>mean</td>\n",
       "      <td>78.715511</td>\n",
       "      <td>18030.451306</td>\n",
       "      <td>71.418366</td>\n",
       "      <td>3.223043</td>\n",
       "      <td>1360.113326</td>\n",
       "      <td>4918.416424</td>\n",
       "      <td>2014.199524</td>\n",
       "      <td>90.325515</td>\n",
       "      <td>6.507843</td>\n",
       "      <td>60.803284</td>\n",
       "      <td>101.718140</td>\n",
       "      <td>1.223175</td>\n",
       "    </tr>\n",
       "    <tr>\n",
       "      <td>std</td>\n",
       "      <td>26.853633</td>\n",
       "      <td>5208.251219</td>\n",
       "      <td>22.562055</td>\n",
       "      <td>0.845200</td>\n",
       "      <td>178.985422</td>\n",
       "      <td>1941.460621</td>\n",
       "      <td>597.919038</td>\n",
       "      <td>30.867602</td>\n",
       "      <td>0.291368</td>\n",
       "      <td>8.545296</td>\n",
       "      <td>13.995531</td>\n",
       "      <td>0.112269</td>\n",
       "    </tr>\n",
       "    <tr>\n",
       "      <td>min</td>\n",
       "      <td>14.850000</td>\n",
       "      <td>9686.480000</td>\n",
       "      <td>14.100000</td>\n",
       "      <td>1.490000</td>\n",
       "      <td>1050.600000</td>\n",
       "      <td>2091.790000</td>\n",
       "      <td>1022.580000</td>\n",
       "      <td>41.150000</td>\n",
       "      <td>6.040200</td>\n",
       "      <td>43.900000</td>\n",
       "      <td>75.720000</td>\n",
       "      <td>1.037500</td>\n",
       "    </tr>\n",
       "    <tr>\n",
       "      <td>25%</td>\n",
       "      <td>55.725000</td>\n",
       "      <td>13232.620000</td>\n",
       "      <td>51.485000</td>\n",
       "      <td>2.685000</td>\n",
       "      <td>1232.225000</td>\n",
       "      <td>3064.600000</td>\n",
       "      <td>1418.085000</td>\n",
       "      <td>59.715000</td>\n",
       "      <td>6.236150</td>\n",
       "      <td>54.405000</td>\n",
       "      <td>88.200000</td>\n",
       "      <td>1.120150</td>\n",
       "    </tr>\n",
       "    <tr>\n",
       "      <td>50%</td>\n",
       "      <td>73.450000</td>\n",
       "      <td>17366.240000</td>\n",
       "      <td>68.030000</td>\n",
       "      <td>3.030000</td>\n",
       "      <td>1303.950000</td>\n",
       "      <td>4733.500000</td>\n",
       "      <td>2022.190000</td>\n",
       "      <td>89.390000</td>\n",
       "      <td>6.472300</td>\n",
       "      <td>63.400000</td>\n",
       "      <td>106.350000</td>\n",
       "      <td>1.207400</td>\n",
       "    </tr>\n",
       "    <tr>\n",
       "      <td>75%</td>\n",
       "      <td>107.925000</td>\n",
       "      <td>22180.830000</td>\n",
       "      <td>93.545000</td>\n",
       "      <td>3.830000</td>\n",
       "      <td>1485.975000</td>\n",
       "      <td>6506.340000</td>\n",
       "      <td>2496.050000</td>\n",
       "      <td>115.360000</td>\n",
       "      <td>6.772000</td>\n",
       "      <td>67.070000</td>\n",
       "      <td>111.645000</td>\n",
       "      <td>1.323300</td>\n",
       "    </tr>\n",
       "    <tr>\n",
       "      <td>max</td>\n",
       "      <td>128.140000</td>\n",
       "      <td>29551.420000</td>\n",
       "      <td>112.380000</td>\n",
       "      <td>8.150000</td>\n",
       "      <td>1891.000000</td>\n",
       "      <td>9817.180000</td>\n",
       "      <td>3386.150000</td>\n",
       "      <td>160.950000</td>\n",
       "      <td>7.178600</td>\n",
       "      <td>76.400000</td>\n",
       "      <td>125.580000</td>\n",
       "      <td>1.487500</td>\n",
       "    </tr>\n",
       "  </tbody>\n",
       "</table>\n",
       "</div>"
      ],
      "text/plain": [
       "       DCOILBRENTEU          DJIA   DCOILWTICO      DHHNGSP  GOLDAMGBD228NLBM  \\\n",
       "count   2435.000000   2435.000000  2435.000000  2435.000000       2435.000000   \n",
       "mean      78.715511  18030.451306    71.418366     3.223043       1360.113326   \n",
       "std       26.853633   5208.251219    22.562055     0.845200        178.985422   \n",
       "min       14.850000   9686.480000    14.100000     1.490000       1050.600000   \n",
       "25%       55.725000  13232.620000    51.485000     2.685000       1232.225000   \n",
       "50%       73.450000  17366.240000    68.030000     3.030000       1303.950000   \n",
       "75%      107.925000  22180.830000    93.545000     3.830000       1485.975000   \n",
       "max      128.140000  29551.420000   112.380000     8.150000       1891.000000   \n",
       "\n",
       "         NASDAQCOM        SP500  WILL5000INDFC      DEXCHUS      DEXINUS  \\\n",
       "count  2435.000000  2435.000000    2435.000000  2435.000000  2435.000000   \n",
       "mean   4918.416424  2014.199524      90.325515     6.507843    60.803284   \n",
       "std    1941.460621   597.919038      30.867602     0.291368     8.545296   \n",
       "min    2091.790000  1022.580000      41.150000     6.040200    43.900000   \n",
       "25%    3064.600000  1418.085000      59.715000     6.236150    54.405000   \n",
       "50%    4733.500000  2022.190000      89.390000     6.472300    63.400000   \n",
       "75%    6506.340000  2496.050000     115.360000     6.772000    67.070000   \n",
       "max    9817.180000  3386.150000     160.950000     7.178600    76.400000   \n",
       "\n",
       "           DEXJPUS      DEXUSEU  \n",
       "count  2435.000000  2435.000000  \n",
       "mean    101.718140     1.223175  \n",
       "std      13.995531     0.112269  \n",
       "min      75.720000     1.037500  \n",
       "25%      88.200000     1.120150  \n",
       "50%     106.350000     1.207400  \n",
       "75%     111.645000     1.323300  \n",
       "max     125.580000     1.487500  "
      ]
     },
     "execution_count": 50,
     "metadata": {},
     "output_type": "execute_result"
    }
   ],
   "source": [
    "# Run the describe function \n",
    "data_df_clean_v2.describe()"
   ]
  },
  {
   "cell_type": "code",
   "execution_count": 51,
   "metadata": {},
   "outputs": [],
   "source": [
    "# Export the data \n",
    "data_df_clean_v2.to_excel(\"Output/01_Exploration_and_Cleanup/v2_clean_data_dropped_spaces_periods_&_conv_to_float.xlsx\", index=False)\n"
   ]
  },
  {
   "cell_type": "code",
   "execution_count": 52,
   "metadata": {},
   "outputs": [],
   "source": [
    "# Load the data that was exported in the step above and create a new dataframe\n",
    "file_to_open = \"Output/01_Exploration_and_Cleanup/v2_clean_data_dropped_spaces_periods_&_conv_to_float.xlsx\"\n",
    "data_df_clean_v3 = pd.read_excel(file_to_open)\n",
    "\n"
   ]
  },
  {
   "cell_type": "code",
   "execution_count": 53,
   "metadata": {},
   "outputs": [
    {
     "data": {
      "text/plain": [
       "Date                2435\n",
       "DCOILBRENTEU        2435\n",
       "DJIA                2435\n",
       "DCOILWTICO          2435\n",
       "DHHNGSP             2435\n",
       "GOLDAMGBD228NLBM    2435\n",
       "NASDAQCOM           2435\n",
       "SP500               2435\n",
       "WILL5000INDFC       2435\n",
       "DEXCHUS             2435\n",
       "DEXINUS             2435\n",
       "DEXJPUS             2435\n",
       "DEXUSEU             2435\n",
       "dtype: int64"
      ]
     },
     "execution_count": 53,
     "metadata": {},
     "output_type": "execute_result"
    }
   ],
   "source": [
    "# Count the rows\n",
    "data_df_clean_v3.count()"
   ]
  },
  {
   "cell_type": "code",
   "execution_count": 54,
   "metadata": {},
   "outputs": [
    {
     "data": {
      "text/plain": [
       "(2435, 13)"
      ]
     },
     "execution_count": 54,
     "metadata": {},
     "output_type": "execute_result"
    }
   ],
   "source": [
    "# Dispaly the count of the rows and columns\n",
    "data_df_clean_v3.shape"
   ]
  },
  {
   "cell_type": "code",
   "execution_count": 55,
   "metadata": {},
   "outputs": [
    {
     "data": {
      "text/plain": [
       "Index(['Date', 'DCOILBRENTEU', 'DJIA', 'DCOILWTICO', 'DHHNGSP',\n",
       "       'GOLDAMGBD228NLBM', 'NASDAQCOM', 'SP500', 'WILL5000INDFC', 'DEXCHUS',\n",
       "       'DEXINUS', 'DEXJPUS', 'DEXUSEU'],\n",
       "      dtype='object')"
      ]
     },
     "execution_count": 55,
     "metadata": {},
     "output_type": "execute_result"
    }
   ],
   "source": [
    "# Dispaly the column names\n",
    "data_df_clean_v3.columns"
   ]
  },
  {
   "cell_type": "code",
   "execution_count": 56,
   "metadata": {},
   "outputs": [
    {
     "data": {
      "text/plain": [
       "Date                 object\n",
       "DCOILBRENTEU        float64\n",
       "DJIA                float64\n",
       "DCOILWTICO          float64\n",
       "DHHNGSP             float64\n",
       "GOLDAMGBD228NLBM    float64\n",
       "NASDAQCOM           float64\n",
       "SP500               float64\n",
       "WILL5000INDFC       float64\n",
       "DEXCHUS             float64\n",
       "DEXINUS             float64\n",
       "DEXJPUS             float64\n",
       "DEXUSEU             float64\n",
       "dtype: object"
      ]
     },
     "execution_count": 56,
     "metadata": {},
     "output_type": "execute_result"
    }
   ],
   "source": [
    "# Dispaly the datatypes for the columns\n",
    "data_df_clean_v3.dtypes"
   ]
  },
  {
   "cell_type": "code",
   "execution_count": 57,
   "metadata": {},
   "outputs": [
    {
     "data": {
      "text/html": [
       "<div>\n",
       "<style scoped>\n",
       "    .dataframe tbody tr th:only-of-type {\n",
       "        vertical-align: middle;\n",
       "    }\n",
       "\n",
       "    .dataframe tbody tr th {\n",
       "        vertical-align: top;\n",
       "    }\n",
       "\n",
       "    .dataframe thead th {\n",
       "        text-align: right;\n",
       "    }\n",
       "</style>\n",
       "<table border=\"1\" class=\"dataframe\">\n",
       "  <thead>\n",
       "    <tr style=\"text-align: right;\">\n",
       "      <th></th>\n",
       "      <th>DCOILBRENTEU</th>\n",
       "      <th>DJIA</th>\n",
       "      <th>DCOILWTICO</th>\n",
       "      <th>DHHNGSP</th>\n",
       "      <th>GOLDAMGBD228NLBM</th>\n",
       "      <th>NASDAQCOM</th>\n",
       "      <th>SP500</th>\n",
       "      <th>WILL5000INDFC</th>\n",
       "      <th>DEXCHUS</th>\n",
       "      <th>DEXINUS</th>\n",
       "      <th>DEXJPUS</th>\n",
       "      <th>DEXUSEU</th>\n",
       "    </tr>\n",
       "  </thead>\n",
       "  <tbody>\n",
       "    <tr>\n",
       "      <td>count</td>\n",
       "      <td>2435.000000</td>\n",
       "      <td>2435.000000</td>\n",
       "      <td>2435.000000</td>\n",
       "      <td>2435.000000</td>\n",
       "      <td>2435.000000</td>\n",
       "      <td>2435.000000</td>\n",
       "      <td>2435.000000</td>\n",
       "      <td>2435.000000</td>\n",
       "      <td>2435.000000</td>\n",
       "      <td>2435.000000</td>\n",
       "      <td>2435.000000</td>\n",
       "      <td>2435.000000</td>\n",
       "    </tr>\n",
       "    <tr>\n",
       "      <td>mean</td>\n",
       "      <td>78.715511</td>\n",
       "      <td>18030.451306</td>\n",
       "      <td>71.418366</td>\n",
       "      <td>3.223043</td>\n",
       "      <td>1360.113326</td>\n",
       "      <td>4918.416424</td>\n",
       "      <td>2014.199524</td>\n",
       "      <td>90.325515</td>\n",
       "      <td>6.507843</td>\n",
       "      <td>60.803284</td>\n",
       "      <td>101.718140</td>\n",
       "      <td>1.223175</td>\n",
       "    </tr>\n",
       "    <tr>\n",
       "      <td>std</td>\n",
       "      <td>26.853633</td>\n",
       "      <td>5208.251219</td>\n",
       "      <td>22.562055</td>\n",
       "      <td>0.845200</td>\n",
       "      <td>178.985422</td>\n",
       "      <td>1941.460621</td>\n",
       "      <td>597.919038</td>\n",
       "      <td>30.867602</td>\n",
       "      <td>0.291368</td>\n",
       "      <td>8.545296</td>\n",
       "      <td>13.995531</td>\n",
       "      <td>0.112269</td>\n",
       "    </tr>\n",
       "    <tr>\n",
       "      <td>min</td>\n",
       "      <td>14.850000</td>\n",
       "      <td>9686.480000</td>\n",
       "      <td>14.100000</td>\n",
       "      <td>1.490000</td>\n",
       "      <td>1050.600000</td>\n",
       "      <td>2091.790000</td>\n",
       "      <td>1022.580000</td>\n",
       "      <td>41.150000</td>\n",
       "      <td>6.040200</td>\n",
       "      <td>43.900000</td>\n",
       "      <td>75.720000</td>\n",
       "      <td>1.037500</td>\n",
       "    </tr>\n",
       "    <tr>\n",
       "      <td>25%</td>\n",
       "      <td>55.725000</td>\n",
       "      <td>13232.620000</td>\n",
       "      <td>51.485000</td>\n",
       "      <td>2.685000</td>\n",
       "      <td>1232.225000</td>\n",
       "      <td>3064.600000</td>\n",
       "      <td>1418.085000</td>\n",
       "      <td>59.715000</td>\n",
       "      <td>6.236150</td>\n",
       "      <td>54.405000</td>\n",
       "      <td>88.200000</td>\n",
       "      <td>1.120150</td>\n",
       "    </tr>\n",
       "    <tr>\n",
       "      <td>50%</td>\n",
       "      <td>73.450000</td>\n",
       "      <td>17366.240000</td>\n",
       "      <td>68.030000</td>\n",
       "      <td>3.030000</td>\n",
       "      <td>1303.950000</td>\n",
       "      <td>4733.500000</td>\n",
       "      <td>2022.190000</td>\n",
       "      <td>89.390000</td>\n",
       "      <td>6.472300</td>\n",
       "      <td>63.400000</td>\n",
       "      <td>106.350000</td>\n",
       "      <td>1.207400</td>\n",
       "    </tr>\n",
       "    <tr>\n",
       "      <td>75%</td>\n",
       "      <td>107.925000</td>\n",
       "      <td>22180.830000</td>\n",
       "      <td>93.545000</td>\n",
       "      <td>3.830000</td>\n",
       "      <td>1485.975000</td>\n",
       "      <td>6506.340000</td>\n",
       "      <td>2496.050000</td>\n",
       "      <td>115.360000</td>\n",
       "      <td>6.772000</td>\n",
       "      <td>67.070000</td>\n",
       "      <td>111.645000</td>\n",
       "      <td>1.323300</td>\n",
       "    </tr>\n",
       "    <tr>\n",
       "      <td>max</td>\n",
       "      <td>128.140000</td>\n",
       "      <td>29551.420000</td>\n",
       "      <td>112.380000</td>\n",
       "      <td>8.150000</td>\n",
       "      <td>1891.000000</td>\n",
       "      <td>9817.180000</td>\n",
       "      <td>3386.150000</td>\n",
       "      <td>160.950000</td>\n",
       "      <td>7.178600</td>\n",
       "      <td>76.400000</td>\n",
       "      <td>125.580000</td>\n",
       "      <td>1.487500</td>\n",
       "    </tr>\n",
       "  </tbody>\n",
       "</table>\n",
       "</div>"
      ],
      "text/plain": [
       "       DCOILBRENTEU          DJIA   DCOILWTICO      DHHNGSP  GOLDAMGBD228NLBM  \\\n",
       "count   2435.000000   2435.000000  2435.000000  2435.000000       2435.000000   \n",
       "mean      78.715511  18030.451306    71.418366     3.223043       1360.113326   \n",
       "std       26.853633   5208.251219    22.562055     0.845200        178.985422   \n",
       "min       14.850000   9686.480000    14.100000     1.490000       1050.600000   \n",
       "25%       55.725000  13232.620000    51.485000     2.685000       1232.225000   \n",
       "50%       73.450000  17366.240000    68.030000     3.030000       1303.950000   \n",
       "75%      107.925000  22180.830000    93.545000     3.830000       1485.975000   \n",
       "max      128.140000  29551.420000   112.380000     8.150000       1891.000000   \n",
       "\n",
       "         NASDAQCOM        SP500  WILL5000INDFC      DEXCHUS      DEXINUS  \\\n",
       "count  2435.000000  2435.000000    2435.000000  2435.000000  2435.000000   \n",
       "mean   4918.416424  2014.199524      90.325515     6.507843    60.803284   \n",
       "std    1941.460621   597.919038      30.867602     0.291368     8.545296   \n",
       "min    2091.790000  1022.580000      41.150000     6.040200    43.900000   \n",
       "25%    3064.600000  1418.085000      59.715000     6.236150    54.405000   \n",
       "50%    4733.500000  2022.190000      89.390000     6.472300    63.400000   \n",
       "75%    6506.340000  2496.050000     115.360000     6.772000    67.070000   \n",
       "max    9817.180000  3386.150000     160.950000     7.178600    76.400000   \n",
       "\n",
       "           DEXJPUS      DEXUSEU  \n",
       "count  2435.000000  2435.000000  \n",
       "mean    101.718140     1.223175  \n",
       "std      13.995531     0.112269  \n",
       "min      75.720000     1.037500  \n",
       "25%      88.200000     1.120150  \n",
       "50%     106.350000     1.207400  \n",
       "75%     111.645000     1.323300  \n",
       "max     125.580000     1.487500  "
      ]
     },
     "execution_count": 57,
     "metadata": {},
     "output_type": "execute_result"
    }
   ],
   "source": [
    "# Runt he describe function \n",
    "data_df_clean_v3.describe()"
   ]
  },
  {
   "cell_type": "code",
   "execution_count": 58,
   "metadata": {},
   "outputs": [],
   "source": [
    "# Create the Percent Change\n",
    "data_df_clean_v3[\"Pct_DCOILBRENTEU\"] = data_df_clean_v3[\"DCOILBRENTEU\"].pct_change(1)"
   ]
  },
  {
   "cell_type": "code",
   "execution_count": 59,
   "metadata": {},
   "outputs": [],
   "source": [
    "# Create the Percent Change\n",
    "data_df_clean_v3[\"Pct_DJIA\"] = data_df_clean_v3[\"DJIA\"].pct_change(1)"
   ]
  },
  {
   "cell_type": "code",
   "execution_count": 60,
   "metadata": {},
   "outputs": [],
   "source": [
    "# Create the Percent Change\n",
    "data_df_clean_v3[\"Pct_DCOILWTICO\"] = data_df_clean_v3[\"DCOILWTICO\"].pct_change(1)"
   ]
  },
  {
   "cell_type": "code",
   "execution_count": 61,
   "metadata": {},
   "outputs": [],
   "source": [
    "# Create the Percent Change\n",
    "data_df_clean_v3[\"Pct_DHHNGSP\"] = data_df_clean_v3[\"DHHNGSP\"].pct_change(1)"
   ]
  },
  {
   "cell_type": "code",
   "execution_count": 62,
   "metadata": {},
   "outputs": [],
   "source": [
    "# Create the Percent Change\n",
    "data_df_clean_v3[\"Pct_GOLDAMGBD228NLBM\"] = data_df_clean_v3[\"GOLDAMGBD228NLBM\"].pct_change(1)"
   ]
  },
  {
   "cell_type": "code",
   "execution_count": 63,
   "metadata": {},
   "outputs": [],
   "source": [
    "# Create the Percent Change\n",
    "data_df_clean_v3[\"Pct_NASDAQCOM\"] = data_df_clean_v3[\"NASDAQCOM\"].pct_change(1)"
   ]
  },
  {
   "cell_type": "code",
   "execution_count": 64,
   "metadata": {},
   "outputs": [],
   "source": [
    "# Create the Percent Change\n",
    "data_df_clean_v3[\"Pct_SP500\"] = data_df_clean_v3[\"SP500\"].pct_change(1)"
   ]
  },
  {
   "cell_type": "code",
   "execution_count": 65,
   "metadata": {},
   "outputs": [],
   "source": [
    "# Create the Percent Change\n",
    "data_df_clean_v3[\"Pct_WILL5000INDFC\"] = data_df_clean_v3[\"WILL5000INDFC\"].pct_change(1)"
   ]
  },
  {
   "cell_type": "code",
   "execution_count": 66,
   "metadata": {},
   "outputs": [],
   "source": [
    "# Create the Percent Change\n",
    "data_df_clean_v3[\"Pct_DEXCHUS\"] = data_df_clean_v3[\"DEXCHUS\"].pct_change(1)"
   ]
  },
  {
   "cell_type": "code",
   "execution_count": 67,
   "metadata": {},
   "outputs": [],
   "source": [
    "# Create the Percent Change\n",
    "data_df_clean_v3[\"Pct_DEXINUS\"] = data_df_clean_v3[\"DEXINUS\"].pct_change(1)"
   ]
  },
  {
   "cell_type": "code",
   "execution_count": 68,
   "metadata": {},
   "outputs": [],
   "source": [
    "# Create the Percent Change\n",
    "data_df_clean_v3[\"Pct_DEXJPUS\"] = data_df_clean_v3[\"DEXJPUS\"].pct_change(1)"
   ]
  },
  {
   "cell_type": "code",
   "execution_count": 69,
   "metadata": {},
   "outputs": [],
   "source": [
    "# Create the Percent Change\n",
    "data_df_clean_v3[\"Pct_DEXUSEU\"] = data_df_clean_v3[\"DEXUSEU\"].pct_change(1)"
   ]
  },
  {
   "cell_type": "code",
   "execution_count": 70,
   "metadata": {},
   "outputs": [
    {
     "data": {
      "text/plain": [
       "Date                    2435\n",
       "DCOILBRENTEU            2435\n",
       "DJIA                    2435\n",
       "DCOILWTICO              2435\n",
       "DHHNGSP                 2435\n",
       "GOLDAMGBD228NLBM        2435\n",
       "NASDAQCOM               2435\n",
       "SP500                   2435\n",
       "WILL5000INDFC           2435\n",
       "DEXCHUS                 2435\n",
       "DEXINUS                 2435\n",
       "DEXJPUS                 2435\n",
       "DEXUSEU                 2435\n",
       "Pct_DCOILBRENTEU        2434\n",
       "Pct_DJIA                2434\n",
       "Pct_DCOILWTICO          2434\n",
       "Pct_DHHNGSP             2434\n",
       "Pct_GOLDAMGBD228NLBM    2434\n",
       "Pct_NASDAQCOM           2434\n",
       "Pct_SP500               2434\n",
       "Pct_WILL5000INDFC       2434\n",
       "Pct_DEXCHUS             2434\n",
       "Pct_DEXINUS             2434\n",
       "Pct_DEXJPUS             2434\n",
       "Pct_DEXUSEU             2434\n",
       "dtype: int64"
      ]
     },
     "execution_count": 70,
     "metadata": {},
     "output_type": "execute_result"
    }
   ],
   "source": [
    "# Count the rows\n",
    "data_df_clean_v3.count()"
   ]
  },
  {
   "cell_type": "code",
   "execution_count": 71,
   "metadata": {},
   "outputs": [
    {
     "data": {
      "text/plain": [
       "(2435, 25)"
      ]
     },
     "execution_count": 71,
     "metadata": {},
     "output_type": "execute_result"
    }
   ],
   "source": [
    "# Dispaly the count of the rows and columns\n",
    "data_df_clean_v3.shape"
   ]
  },
  {
   "cell_type": "code",
   "execution_count": 72,
   "metadata": {},
   "outputs": [
    {
     "data": {
      "text/plain": [
       "Index(['Date', 'DCOILBRENTEU', 'DJIA', 'DCOILWTICO', 'DHHNGSP',\n",
       "       'GOLDAMGBD228NLBM', 'NASDAQCOM', 'SP500', 'WILL5000INDFC', 'DEXCHUS',\n",
       "       'DEXINUS', 'DEXJPUS', 'DEXUSEU', 'Pct_DCOILBRENTEU', 'Pct_DJIA',\n",
       "       'Pct_DCOILWTICO', 'Pct_DHHNGSP', 'Pct_GOLDAMGBD228NLBM',\n",
       "       'Pct_NASDAQCOM', 'Pct_SP500', 'Pct_WILL5000INDFC', 'Pct_DEXCHUS',\n",
       "       'Pct_DEXINUS', 'Pct_DEXJPUS', 'Pct_DEXUSEU'],\n",
       "      dtype='object')"
      ]
     },
     "execution_count": 72,
     "metadata": {},
     "output_type": "execute_result"
    }
   ],
   "source": [
    "# Dispaly the columns\n",
    "data_df_clean_v3.columns"
   ]
  },
  {
   "cell_type": "code",
   "execution_count": 73,
   "metadata": {},
   "outputs": [
    {
     "data": {
      "text/plain": [
       "Date                     object\n",
       "DCOILBRENTEU            float64\n",
       "DJIA                    float64\n",
       "DCOILWTICO              float64\n",
       "DHHNGSP                 float64\n",
       "GOLDAMGBD228NLBM        float64\n",
       "NASDAQCOM               float64\n",
       "SP500                   float64\n",
       "WILL5000INDFC           float64\n",
       "DEXCHUS                 float64\n",
       "DEXINUS                 float64\n",
       "DEXJPUS                 float64\n",
       "DEXUSEU                 float64\n",
       "Pct_DCOILBRENTEU        float64\n",
       "Pct_DJIA                float64\n",
       "Pct_DCOILWTICO          float64\n",
       "Pct_DHHNGSP             float64\n",
       "Pct_GOLDAMGBD228NLBM    float64\n",
       "Pct_NASDAQCOM           float64\n",
       "Pct_SP500               float64\n",
       "Pct_WILL5000INDFC       float64\n",
       "Pct_DEXCHUS             float64\n",
       "Pct_DEXINUS             float64\n",
       "Pct_DEXJPUS             float64\n",
       "Pct_DEXUSEU             float64\n",
       "dtype: object"
      ]
     },
     "execution_count": 73,
     "metadata": {},
     "output_type": "execute_result"
    }
   ],
   "source": [
    "# Dispaly the datatypes\n",
    "data_df_clean_v3.dtypes"
   ]
  },
  {
   "cell_type": "code",
   "execution_count": 74,
   "metadata": {},
   "outputs": [
    {
     "data": {
      "text/html": [
       "<div>\n",
       "<style scoped>\n",
       "    .dataframe tbody tr th:only-of-type {\n",
       "        vertical-align: middle;\n",
       "    }\n",
       "\n",
       "    .dataframe tbody tr th {\n",
       "        vertical-align: top;\n",
       "    }\n",
       "\n",
       "    .dataframe thead th {\n",
       "        text-align: right;\n",
       "    }\n",
       "</style>\n",
       "<table border=\"1\" class=\"dataframe\">\n",
       "  <thead>\n",
       "    <tr style=\"text-align: right;\">\n",
       "      <th></th>\n",
       "      <th>DCOILBRENTEU</th>\n",
       "      <th>DJIA</th>\n",
       "      <th>DCOILWTICO</th>\n",
       "      <th>DHHNGSP</th>\n",
       "      <th>GOLDAMGBD228NLBM</th>\n",
       "      <th>NASDAQCOM</th>\n",
       "      <th>SP500</th>\n",
       "      <th>WILL5000INDFC</th>\n",
       "      <th>DEXCHUS</th>\n",
       "      <th>DEXINUS</th>\n",
       "      <th>...</th>\n",
       "      <th>Pct_DCOILWTICO</th>\n",
       "      <th>Pct_DHHNGSP</th>\n",
       "      <th>Pct_GOLDAMGBD228NLBM</th>\n",
       "      <th>Pct_NASDAQCOM</th>\n",
       "      <th>Pct_SP500</th>\n",
       "      <th>Pct_WILL5000INDFC</th>\n",
       "      <th>Pct_DEXCHUS</th>\n",
       "      <th>Pct_DEXINUS</th>\n",
       "      <th>Pct_DEXJPUS</th>\n",
       "      <th>Pct_DEXUSEU</th>\n",
       "    </tr>\n",
       "  </thead>\n",
       "  <tbody>\n",
       "    <tr>\n",
       "      <td>count</td>\n",
       "      <td>2435.000000</td>\n",
       "      <td>2435.000000</td>\n",
       "      <td>2435.000000</td>\n",
       "      <td>2435.000000</td>\n",
       "      <td>2435.000000</td>\n",
       "      <td>2435.000000</td>\n",
       "      <td>2435.000000</td>\n",
       "      <td>2435.000000</td>\n",
       "      <td>2435.000000</td>\n",
       "      <td>2435.000000</td>\n",
       "      <td>...</td>\n",
       "      <td>2434.000000</td>\n",
       "      <td>2434.000000</td>\n",
       "      <td>2434.000000</td>\n",
       "      <td>2434.000000</td>\n",
       "      <td>2434.000000</td>\n",
       "      <td>2434.000000</td>\n",
       "      <td>2434.000000</td>\n",
       "      <td>2434.000000</td>\n",
       "      <td>2434.000000</td>\n",
       "      <td>2434.000000</td>\n",
       "    </tr>\n",
       "    <tr>\n",
       "      <td>mean</td>\n",
       "      <td>78.715511</td>\n",
       "      <td>18030.451306</td>\n",
       "      <td>71.418366</td>\n",
       "      <td>3.223043</td>\n",
       "      <td>1360.113326</td>\n",
       "      <td>4918.416424</td>\n",
       "      <td>2014.199524</td>\n",
       "      <td>90.325515</td>\n",
       "      <td>6.507843</td>\n",
       "      <td>60.803284</td>\n",
       "      <td>...</td>\n",
       "      <td>-0.000164</td>\n",
       "      <td>0.000566</td>\n",
       "      <td>0.000209</td>\n",
       "      <td>0.000565</td>\n",
       "      <td>0.000409</td>\n",
       "      <td>0.000475</td>\n",
       "      <td>0.000015</td>\n",
       "      <td>0.000232</td>\n",
       "      <td>0.000084</td>\n",
       "      <td>-0.000070</td>\n",
       "    </tr>\n",
       "    <tr>\n",
       "      <td>std</td>\n",
       "      <td>26.853633</td>\n",
       "      <td>5208.251219</td>\n",
       "      <td>22.562055</td>\n",
       "      <td>0.845200</td>\n",
       "      <td>178.985422</td>\n",
       "      <td>1941.460621</td>\n",
       "      <td>597.919038</td>\n",
       "      <td>30.867602</td>\n",
       "      <td>0.291368</td>\n",
       "      <td>8.545296</td>\n",
       "      <td>...</td>\n",
       "      <td>0.026978</td>\n",
       "      <td>0.043809</td>\n",
       "      <td>0.009896</td>\n",
       "      <td>0.012268</td>\n",
       "      <td>0.011051</td>\n",
       "      <td>0.011242</td>\n",
       "      <td>0.001953</td>\n",
       "      <td>0.005004</td>\n",
       "      <td>0.005903</td>\n",
       "      <td>0.005573</td>\n",
       "    </tr>\n",
       "    <tr>\n",
       "      <td>min</td>\n",
       "      <td>14.850000</td>\n",
       "      <td>9686.480000</td>\n",
       "      <td>14.100000</td>\n",
       "      <td>1.490000</td>\n",
       "      <td>1050.600000</td>\n",
       "      <td>2091.790000</td>\n",
       "      <td>1022.580000</td>\n",
       "      <td>41.150000</td>\n",
       "      <td>6.040200</td>\n",
       "      <td>43.900000</td>\n",
       "      <td>...</td>\n",
       "      <td>-0.245260</td>\n",
       "      <td>-0.378495</td>\n",
       "      <td>-0.085271</td>\n",
       "      <td>-0.123212</td>\n",
       "      <td>-0.119841</td>\n",
       "      <td>-0.122405</td>\n",
       "      <td>-0.012340</td>\n",
       "      <td>-0.036863</td>\n",
       "      <td>-0.034372</td>\n",
       "      <td>-0.026370</td>\n",
       "    </tr>\n",
       "    <tr>\n",
       "      <td>25%</td>\n",
       "      <td>55.725000</td>\n",
       "      <td>13232.620000</td>\n",
       "      <td>51.485000</td>\n",
       "      <td>2.685000</td>\n",
       "      <td>1232.225000</td>\n",
       "      <td>3064.600000</td>\n",
       "      <td>1418.085000</td>\n",
       "      <td>59.715000</td>\n",
       "      <td>6.236150</td>\n",
       "      <td>54.405000</td>\n",
       "      <td>...</td>\n",
       "      <td>-0.011576</td>\n",
       "      <td>-0.015625</td>\n",
       "      <td>-0.005188</td>\n",
       "      <td>-0.004256</td>\n",
       "      <td>-0.003402</td>\n",
       "      <td>-0.003638</td>\n",
       "      <td>-0.000693</td>\n",
       "      <td>-0.002217</td>\n",
       "      <td>-0.002869</td>\n",
       "      <td>-0.003182</td>\n",
       "    </tr>\n",
       "    <tr>\n",
       "      <td>50%</td>\n",
       "      <td>73.450000</td>\n",
       "      <td>17366.240000</td>\n",
       "      <td>68.030000</td>\n",
       "      <td>3.030000</td>\n",
       "      <td>1303.950000</td>\n",
       "      <td>4733.500000</td>\n",
       "      <td>2022.190000</td>\n",
       "      <td>89.390000</td>\n",
       "      <td>6.472300</td>\n",
       "      <td>63.400000</td>\n",
       "      <td>...</td>\n",
       "      <td>0.000445</td>\n",
       "      <td>0.000000</td>\n",
       "      <td>0.000270</td>\n",
       "      <td>0.000920</td>\n",
       "      <td>0.000593</td>\n",
       "      <td>0.000778</td>\n",
       "      <td>0.000000</td>\n",
       "      <td>0.000000</td>\n",
       "      <td>0.000082</td>\n",
       "      <td>-0.000073</td>\n",
       "    </tr>\n",
       "    <tr>\n",
       "      <td>75%</td>\n",
       "      <td>107.925000</td>\n",
       "      <td>22180.830000</td>\n",
       "      <td>93.545000</td>\n",
       "      <td>3.830000</td>\n",
       "      <td>1485.975000</td>\n",
       "      <td>6506.340000</td>\n",
       "      <td>2496.050000</td>\n",
       "      <td>115.360000</td>\n",
       "      <td>6.772000</td>\n",
       "      <td>67.070000</td>\n",
       "      <td>...</td>\n",
       "      <td>0.010903</td>\n",
       "      <td>0.015103</td>\n",
       "      <td>0.005440</td>\n",
       "      <td>0.006631</td>\n",
       "      <td>0.005201</td>\n",
       "      <td>0.005428</td>\n",
       "      <td>0.000677</td>\n",
       "      <td>0.002530</td>\n",
       "      <td>0.003205</td>\n",
       "      <td>0.002992</td>\n",
       "    </tr>\n",
       "    <tr>\n",
       "      <td>max</td>\n",
       "      <td>128.140000</td>\n",
       "      <td>29551.420000</td>\n",
       "      <td>112.380000</td>\n",
       "      <td>8.150000</td>\n",
       "      <td>1891.000000</td>\n",
       "      <td>9817.180000</td>\n",
       "      <td>3386.150000</td>\n",
       "      <td>160.950000</td>\n",
       "      <td>7.178600</td>\n",
       "      <td>76.400000</td>\n",
       "      <td>...</td>\n",
       "      <td>0.454610</td>\n",
       "      <td>0.691057</td>\n",
       "      <td>0.070258</td>\n",
       "      <td>0.093459</td>\n",
       "      <td>0.093828</td>\n",
       "      <td>0.092660</td>\n",
       "      <td>0.018327</td>\n",
       "      <td>0.047770</td>\n",
       "      <td>0.033993</td>\n",
       "      <td>0.031117</td>\n",
       "    </tr>\n",
       "  </tbody>\n",
       "</table>\n",
       "<p>8 rows × 24 columns</p>\n",
       "</div>"
      ],
      "text/plain": [
       "       DCOILBRENTEU          DJIA   DCOILWTICO      DHHNGSP  GOLDAMGBD228NLBM  \\\n",
       "count   2435.000000   2435.000000  2435.000000  2435.000000       2435.000000   \n",
       "mean      78.715511  18030.451306    71.418366     3.223043       1360.113326   \n",
       "std       26.853633   5208.251219    22.562055     0.845200        178.985422   \n",
       "min       14.850000   9686.480000    14.100000     1.490000       1050.600000   \n",
       "25%       55.725000  13232.620000    51.485000     2.685000       1232.225000   \n",
       "50%       73.450000  17366.240000    68.030000     3.030000       1303.950000   \n",
       "75%      107.925000  22180.830000    93.545000     3.830000       1485.975000   \n",
       "max      128.140000  29551.420000   112.380000     8.150000       1891.000000   \n",
       "\n",
       "         NASDAQCOM        SP500  WILL5000INDFC      DEXCHUS      DEXINUS  ...  \\\n",
       "count  2435.000000  2435.000000    2435.000000  2435.000000  2435.000000  ...   \n",
       "mean   4918.416424  2014.199524      90.325515     6.507843    60.803284  ...   \n",
       "std    1941.460621   597.919038      30.867602     0.291368     8.545296  ...   \n",
       "min    2091.790000  1022.580000      41.150000     6.040200    43.900000  ...   \n",
       "25%    3064.600000  1418.085000      59.715000     6.236150    54.405000  ...   \n",
       "50%    4733.500000  2022.190000      89.390000     6.472300    63.400000  ...   \n",
       "75%    6506.340000  2496.050000     115.360000     6.772000    67.070000  ...   \n",
       "max    9817.180000  3386.150000     160.950000     7.178600    76.400000  ...   \n",
       "\n",
       "       Pct_DCOILWTICO  Pct_DHHNGSP  Pct_GOLDAMGBD228NLBM  Pct_NASDAQCOM  \\\n",
       "count     2434.000000  2434.000000           2434.000000    2434.000000   \n",
       "mean        -0.000164     0.000566              0.000209       0.000565   \n",
       "std          0.026978     0.043809              0.009896       0.012268   \n",
       "min         -0.245260    -0.378495             -0.085271      -0.123212   \n",
       "25%         -0.011576    -0.015625             -0.005188      -0.004256   \n",
       "50%          0.000445     0.000000              0.000270       0.000920   \n",
       "75%          0.010903     0.015103              0.005440       0.006631   \n",
       "max          0.454610     0.691057              0.070258       0.093459   \n",
       "\n",
       "         Pct_SP500  Pct_WILL5000INDFC  Pct_DEXCHUS  Pct_DEXINUS  Pct_DEXJPUS  \\\n",
       "count  2434.000000        2434.000000  2434.000000  2434.000000  2434.000000   \n",
       "mean      0.000409           0.000475     0.000015     0.000232     0.000084   \n",
       "std       0.011051           0.011242     0.001953     0.005004     0.005903   \n",
       "min      -0.119841          -0.122405    -0.012340    -0.036863    -0.034372   \n",
       "25%      -0.003402          -0.003638    -0.000693    -0.002217    -0.002869   \n",
       "50%       0.000593           0.000778     0.000000     0.000000     0.000082   \n",
       "75%       0.005201           0.005428     0.000677     0.002530     0.003205   \n",
       "max       0.093828           0.092660     0.018327     0.047770     0.033993   \n",
       "\n",
       "       Pct_DEXUSEU  \n",
       "count  2434.000000  \n",
       "mean     -0.000070  \n",
       "std       0.005573  \n",
       "min      -0.026370  \n",
       "25%      -0.003182  \n",
       "50%      -0.000073  \n",
       "75%       0.002992  \n",
       "max       0.031117  \n",
       "\n",
       "[8 rows x 24 columns]"
      ]
     },
     "execution_count": 74,
     "metadata": {},
     "output_type": "execute_result"
    }
   ],
   "source": [
    "# Run the describe function\n",
    "data_df_clean_v3.describe()\n"
   ]
  },
  {
   "cell_type": "code",
   "execution_count": 75,
   "metadata": {},
   "outputs": [],
   "source": [
    "# Export the final version of the cleaned up ata to be used in the Analysis\n",
    "data_df_clean_v3.to_excel(\"Output/01_Exploration_and_Cleanup/v3_clean_data_created_percentage_changes.xlsx\", index=False)"
   ]
  },
  {
   "cell_type": "code",
   "execution_count": null,
   "metadata": {},
   "outputs": [],
   "source": []
  }
 ],
 "metadata": {
  "kernelspec": {
   "display_name": "Python 3",
   "language": "python",
   "name": "python3"
  },
  "language_info": {
   "codemirror_mode": {
    "name": "ipython",
    "version": 3
   },
   "file_extension": ".py",
   "mimetype": "text/x-python",
   "name": "python",
   "nbconvert_exporter": "python",
   "pygments_lexer": "ipython3",
   "version": "3.7.4"
  }
 },
 "nbformat": 4,
 "nbformat_minor": 2
}
